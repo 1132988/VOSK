{
  "cells": [
    {
      "cell_type": "markdown",
      "metadata": {
        "id": "5MhT8EjA5yGq"
      },
      "source": [
        "1. Здесь идет установка **необходимых библиотек**"
      ]
    },
    {
      "cell_type": "code",
      "execution_count": null,
      "metadata": {
        "colab": {
          "base_uri": "https://localhost:8080/"
        },
        "id": "BFzSvVq6k1hL",
        "outputId": "2dcdf0b5-b5b7-498f-c861-1c814cae45c7"
      },
      "outputs": [],
      "source": [
        "!pip3 install pydub\n",
        "!pip3 install vosk\n",
        "!pip3 install torch\n",
        "!pip3 install transformers\n",
        "!git clone https://git.ffmpeg.org/ffmpeg.git ffmpeg\n",
        "!pip install moviepy"
      ]
    },
    {
      "cell_type": "markdown",
      "metadata": {
        "id": "i-R2yJvt6A5C"
      },
      "source": [
        "1.2 Vosk model installation"
      ]
    },
    {
      "cell_type": "code",
      "execution_count": null,
      "metadata": {
        "colab": {
          "base_uri": "https://localhost:8080/"
        },
        "id": "TK_RjMT8lwdZ",
        "outputId": "3503b1a3-7d39-420b-e90e-9bad7a0c291a"
      },
      "outputs": [],
      "source": [
        "!curl -o ./model.zip https://alphacephei.com/vosk/models/vosk-model-ru-0.42.zip\n",
        "!unzip model.zip\n",
        "!mv vosk-model-ru-0.42/ model\n",
        "!rm -rf model.zip"
      ]
    },
    {
      "cell_type": "markdown",
      "metadata": {
        "id": "qiEOFoSx6Paq"
      },
      "source": [
        "This model can be put to VOSK, but its use takes too much resources of the computer itself. Deals with punctuation marks"
      ]
    },
    {
      "cell_type": "code",
      "execution_count": null,
      "metadata": {
        "colab": {
          "base_uri": "https://localhost:8080/"
        },
        "id": "_RmaA7idmOaS",
        "outputId": "57a9b875-2d0b-4577-e5f0-248e18176330"
      },
      "outputs": [],
      "source": [
        "!curl -o recasepunc.zip https://alphacephei.com/vosk/models/vosk-recasepunc-ru-0.22.zip\n",
        "!unzip recasepunc.zip\n",
        "!mv vosk-recasepunc-ru-0.22/ recasepunc\n",
        "!rm -rf recasepunc.zip"
      ]
    },
    {
      "cell_type": "code",
      "execution_count": 7,
      "metadata": {
        "id": "7Ua2SIvqk8EQ"
      },
      "outputs": [],
      "source": [
        "#import libraries\n",
        "from vosk import Model, KaldiRecognizer, SetLogLevel\n",
        "from pydub import AudioSegment\n",
        "import subprocess\n",
        "import json\n",
        "import os\n",
        "from moviepy.editor import VideoFileClip\n",
        "from moviepy.video.io.html_tools import ffmpeg_parse_infos\n"
      ]
    },
    {
      "cell_type": "code",
      "execution_count": null,
      "metadata": {
        "colab": {
          "base_uri": "https://localhost:8080/"
        },
        "id": "WP1rydn6rzmU",
        "outputId": "7277e1b4-70da-4310-bc6d-28eaffc49196"
      },
      "outputs": [],
      "source": [
        "from moviepy.editor import VideoFileClip\n",
        "def convert_mp4_to_wav(input_file, output_file):\n",
        "    video = VideoFileClip(input_file)\n",
        "    audio = video.audio\n",
        "    audio.write_audiofile(output_file)\n",
        "\n",
        "input_file = 'video.mp4'\n",
        "output_file = 'file.wav'\n",
        "convert_mp4_to_wav(input_file, output_file)\n"
      ]
    },
    {
      "cell_type": "code",
      "execution_count": 9,
      "metadata": {
        "id": "xUGrxfRtlCCf"
      },
      "outputs": [],
      "source": [
        "#SetLogLevel(0)\n",
        "import os\n",
        "# checking model\n",
        "if not os.path.exists(\"model\"):\n",
        "    print (\"Please download the model from https://alphacephei.com/vosk/models and unpack as 'model' in the current folder.\")\n",
        "    exit (1)\n",
        "\n",
        "# set Frame Rate\n",
        "FRAME_RATE = 16000\n",
        "CHANNELS=1\n",
        "\n",
        "model = Model(\"model\")\n",
        "rec = KaldiRecognizer(model, FRAME_RATE)\n",
        "rec.SetWords(True)\n",
        "\n",
        "# Используя библиотеку pydub делаем предобработку аудио\n",
        "mp3 = AudioSegment.from_mp3('file.wav')\n",
        "mp3 = mp3.set_channels(CHANNELS)\n",
        "mp3 = mp3.set_frame_rate(FRAME_RATE)\n"
      ]
    },
    {
      "cell_type": "code",
      "execution_count": null,
      "metadata": {
        "id": "JjBoYZJJXrgh"
      },
      "outputs": [],
      "source": [
        "# Преобразуем вывод в json\n",
        "rec.AcceptWaveform(mp3.raw_data)\n",
        "result = rec.Result()\n",
        "text = json.loads(result)[\"text\"]\n",
        "\n",
        "# Добавляем пунктуацию (Занимает очень много ресурсов, можно и без нее)\n",
        "#cased = subprocess.check_output('python3 recasepunc/recasepunc.py predict recasepunc/checkpoint', shell=True, text=True, input=text)\n"
      ]
    },
    {
      "cell_type": "code",
      "execution_count": null,
      "metadata": {
        "id": "yNnF1pb4XwUg"
      },
      "outputs": [],
      "source": [
        "# Записываем результат в файл \"data.txt\"\n",
        "with open('ff.txt', 'w') as f:\n",
        "    json.dump(text, f, ensure_ascii=False, indent=4)"
      ]
    }
  ],
  "metadata": {
    "colab": {
      "provenance": []
    },
    "kernelspec": {
      "display_name": "Python 3",
      "name": "python3"
    },
    "language_info": {
      "name": "python",
      "version": "3.12.0"
    }
  },
  "nbformat": 4,
  "nbformat_minor": 0
}
