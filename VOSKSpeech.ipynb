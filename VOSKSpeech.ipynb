{
  "cells": [
    {
      "cell_type": "markdown",
      "source": [
        "1. Здесь идет установка **необходимых библиотек**"
      ],
      "metadata": {
        "id": "5MhT8EjA5yGq"
      }
    },
    {
      "cell_type": "code",
      "execution_count": 1,
      "metadata": {
        "id": "BFzSvVq6k1hL",
        "colab": {
          "base_uri": "https://localhost:8080/"
        },
        "outputId": "2dcdf0b5-b5b7-498f-c861-1c814cae45c7"
      },
      "outputs": [
        {
          "output_type": "stream",
          "name": "stdout",
          "text": [
            "Collecting pydub\n",
            "  Downloading pydub-0.25.1-py2.py3-none-any.whl (32 kB)\n",
            "Installing collected packages: pydub\n",
            "Successfully installed pydub-0.25.1\n",
            "Collecting vosk\n",
            "  Downloading vosk-0.3.45-py3-none-manylinux_2_12_x86_64.manylinux2010_x86_64.whl (7.2 MB)\n",
            "\u001b[2K     \u001b[90m━━━━━━━━━━━━━━━━━━━━━━━━━━━━━━━━━━━━━━━━\u001b[0m \u001b[32m7.2/7.2 MB\u001b[0m \u001b[31m18.6 MB/s\u001b[0m eta \u001b[36m0:00:00\u001b[0m\n",
            "\u001b[?25hRequirement already satisfied: cffi>=1.0 in /usr/local/lib/python3.10/dist-packages (from vosk) (1.16.0)\n",
            "Requirement already satisfied: requests in /usr/local/lib/python3.10/dist-packages (from vosk) (2.31.0)\n",
            "Requirement already satisfied: tqdm in /usr/local/lib/python3.10/dist-packages (from vosk) (4.66.1)\n",
            "Collecting srt (from vosk)\n",
            "  Downloading srt-3.5.3.tar.gz (28 kB)\n",
            "  Preparing metadata (setup.py) ... \u001b[?25l\u001b[?25hdone\n",
            "Collecting websockets (from vosk)\n",
            "  Downloading websockets-12.0-cp310-cp310-manylinux_2_5_x86_64.manylinux1_x86_64.manylinux_2_17_x86_64.manylinux2014_x86_64.whl (130 kB)\n",
            "\u001b[2K     \u001b[90m━━━━━━━━━━━━━━━━━━━━━━━━━━━━━━━━━━━━━━━━\u001b[0m \u001b[32m130.2/130.2 kB\u001b[0m \u001b[31m7.6 MB/s\u001b[0m eta \u001b[36m0:00:00\u001b[0m\n",
            "\u001b[?25hRequirement already satisfied: pycparser in /usr/local/lib/python3.10/dist-packages (from cffi>=1.0->vosk) (2.21)\n",
            "Requirement already satisfied: charset-normalizer<4,>=2 in /usr/local/lib/python3.10/dist-packages (from requests->vosk) (3.3.2)\n",
            "Requirement already satisfied: idna<4,>=2.5 in /usr/local/lib/python3.10/dist-packages (from requests->vosk) (3.6)\n",
            "Requirement already satisfied: urllib3<3,>=1.21.1 in /usr/local/lib/python3.10/dist-packages (from requests->vosk) (2.0.7)\n",
            "Requirement already satisfied: certifi>=2017.4.17 in /usr/local/lib/python3.10/dist-packages (from requests->vosk) (2023.11.17)\n",
            "Building wheels for collected packages: srt\n",
            "  Building wheel for srt (setup.py) ... \u001b[?25l\u001b[?25hdone\n",
            "  Created wheel for srt: filename=srt-3.5.3-py3-none-any.whl size=22428 sha256=35d48f9af49639cd4a252e42c8f1cd45bd974f94256fd05f514567d2a1e800de\n",
            "  Stored in directory: /root/.cache/pip/wheels/d7/31/a1/18e1e7e8bfdafd19e6803d7eb919b563dd11de380e4304e332\n",
            "Successfully built srt\n",
            "Installing collected packages: websockets, srt, vosk\n",
            "Successfully installed srt-3.5.3 vosk-0.3.45 websockets-12.0\n",
            "Requirement already satisfied: torch in /usr/local/lib/python3.10/dist-packages (2.1.0+cu121)\n",
            "Requirement already satisfied: filelock in /usr/local/lib/python3.10/dist-packages (from torch) (3.13.1)\n",
            "Requirement already satisfied: typing-extensions in /usr/local/lib/python3.10/dist-packages (from torch) (4.5.0)\n",
            "Requirement already satisfied: sympy in /usr/local/lib/python3.10/dist-packages (from torch) (1.12)\n",
            "Requirement already satisfied: networkx in /usr/local/lib/python3.10/dist-packages (from torch) (3.2.1)\n",
            "Requirement already satisfied: jinja2 in /usr/local/lib/python3.10/dist-packages (from torch) (3.1.2)\n",
            "Requirement already satisfied: fsspec in /usr/local/lib/python3.10/dist-packages (from torch) (2023.6.0)\n",
            "Requirement already satisfied: triton==2.1.0 in /usr/local/lib/python3.10/dist-packages (from torch) (2.1.0)\n",
            "Requirement already satisfied: MarkupSafe>=2.0 in /usr/local/lib/python3.10/dist-packages (from jinja2->torch) (2.1.3)\n",
            "Requirement already satisfied: mpmath>=0.19 in /usr/local/lib/python3.10/dist-packages (from sympy->torch) (1.3.0)\n",
            "Requirement already satisfied: transformers in /usr/local/lib/python3.10/dist-packages (4.35.2)\n",
            "Requirement already satisfied: filelock in /usr/local/lib/python3.10/dist-packages (from transformers) (3.13.1)\n",
            "Requirement already satisfied: huggingface-hub<1.0,>=0.16.4 in /usr/local/lib/python3.10/dist-packages (from transformers) (0.19.4)\n",
            "Requirement already satisfied: numpy>=1.17 in /usr/local/lib/python3.10/dist-packages (from transformers) (1.23.5)\n",
            "Requirement already satisfied: packaging>=20.0 in /usr/local/lib/python3.10/dist-packages (from transformers) (23.2)\n",
            "Requirement already satisfied: pyyaml>=5.1 in /usr/local/lib/python3.10/dist-packages (from transformers) (6.0.1)\n",
            "Requirement already satisfied: regex!=2019.12.17 in /usr/local/lib/python3.10/dist-packages (from transformers) (2023.6.3)\n",
            "Requirement already satisfied: requests in /usr/local/lib/python3.10/dist-packages (from transformers) (2.31.0)\n",
            "Requirement already satisfied: tokenizers<0.19,>=0.14 in /usr/local/lib/python3.10/dist-packages (from transformers) (0.15.0)\n",
            "Requirement already satisfied: safetensors>=0.3.1 in /usr/local/lib/python3.10/dist-packages (from transformers) (0.4.1)\n",
            "Requirement already satisfied: tqdm>=4.27 in /usr/local/lib/python3.10/dist-packages (from transformers) (4.66.1)\n",
            "Requirement already satisfied: fsspec>=2023.5.0 in /usr/local/lib/python3.10/dist-packages (from huggingface-hub<1.0,>=0.16.4->transformers) (2023.6.0)\n",
            "Requirement already satisfied: typing-extensions>=3.7.4.3 in /usr/local/lib/python3.10/dist-packages (from huggingface-hub<1.0,>=0.16.4->transformers) (4.5.0)\n",
            "Requirement already satisfied: charset-normalizer<4,>=2 in /usr/local/lib/python3.10/dist-packages (from requests->transformers) (3.3.2)\n",
            "Requirement already satisfied: idna<4,>=2.5 in /usr/local/lib/python3.10/dist-packages (from requests->transformers) (3.6)\n",
            "Requirement already satisfied: urllib3<3,>=1.21.1 in /usr/local/lib/python3.10/dist-packages (from requests->transformers) (2.0.7)\n",
            "Requirement already satisfied: certifi>=2017.4.17 in /usr/local/lib/python3.10/dist-packages (from requests->transformers) (2023.11.17)\n",
            "Cloning into 'ffmpeg'...\n",
            "remote: Enumerating objects: 19343, done.\u001b[K\n",
            "remote: Counting objects: 100% (19343/19343), done.\u001b[K\n",
            "remote: Compressing objects: 100% (11622/11622), done.\u001b[K\n",
            "remote: Total 707407 (delta 14284), reused 10093 (delta 7662)\u001b[K\n",
            "Receiving objects: 100% (707407/707407), 175.22 MiB | 15.36 MiB/s, done.\n",
            "Resolving deltas: 100% (571475/571475), done.\n",
            "Updating files: 100% (8280/8280), done.\n",
            "Requirement already satisfied: moviepy in /usr/local/lib/python3.10/dist-packages (1.0.3)\n",
            "Requirement already satisfied: decorator<5.0,>=4.0.2 in /usr/local/lib/python3.10/dist-packages (from moviepy) (4.4.2)\n",
            "Requirement already satisfied: tqdm<5.0,>=4.11.2 in /usr/local/lib/python3.10/dist-packages (from moviepy) (4.66.1)\n",
            "Requirement already satisfied: requests<3.0,>=2.8.1 in /usr/local/lib/python3.10/dist-packages (from moviepy) (2.31.0)\n",
            "Requirement already satisfied: proglog<=1.0.0 in /usr/local/lib/python3.10/dist-packages (from moviepy) (0.1.10)\n",
            "Requirement already satisfied: numpy>=1.17.3 in /usr/local/lib/python3.10/dist-packages (from moviepy) (1.23.5)\n",
            "Requirement already satisfied: imageio<3.0,>=2.5 in /usr/local/lib/python3.10/dist-packages (from moviepy) (2.31.6)\n",
            "Requirement already satisfied: imageio-ffmpeg>=0.2.0 in /usr/local/lib/python3.10/dist-packages (from moviepy) (0.4.9)\n",
            "Requirement already satisfied: pillow<10.1.0,>=8.3.2 in /usr/local/lib/python3.10/dist-packages (from imageio<3.0,>=2.5->moviepy) (9.4.0)\n",
            "Requirement already satisfied: setuptools in /usr/local/lib/python3.10/dist-packages (from imageio-ffmpeg>=0.2.0->moviepy) (67.7.2)\n",
            "Requirement already satisfied: charset-normalizer<4,>=2 in /usr/local/lib/python3.10/dist-packages (from requests<3.0,>=2.8.1->moviepy) (3.3.2)\n",
            "Requirement already satisfied: idna<4,>=2.5 in /usr/local/lib/python3.10/dist-packages (from requests<3.0,>=2.8.1->moviepy) (3.6)\n",
            "Requirement already satisfied: urllib3<3,>=1.21.1 in /usr/local/lib/python3.10/dist-packages (from requests<3.0,>=2.8.1->moviepy) (2.0.7)\n",
            "Requirement already satisfied: certifi>=2017.4.17 in /usr/local/lib/python3.10/dist-packages (from requests<3.0,>=2.8.1->moviepy) (2023.11.17)\n"
          ]
        }
      ],
      "source": [
        "!pip3 install pydub\n",
        "!pip3 install vosk\n",
        "!pip3 install torch\n",
        "!pip3 install transformers\n",
        "!git clone https://git.ffmpeg.org/ffmpeg.git ffmpeg\n",
        "!pip install moviepy"
      ]
    },
    {
      "cell_type": "markdown",
      "source": [
        "1.2 Vosk model installation"
      ],
      "metadata": {
        "id": "i-R2yJvt6A5C"
      }
    },
    {
      "cell_type": "code",
      "execution_count": 2,
      "metadata": {
        "id": "TK_RjMT8lwdZ",
        "colab": {
          "base_uri": "https://localhost:8080/"
        },
        "outputId": "3503b1a3-7d39-420b-e90e-9bad7a0c291a"
      },
      "outputs": [
        {
          "output_type": "stream",
          "name": "stdout",
          "text": [
            "  % Total    % Received % Xferd  Average Speed   Time    Time     Time  Current\n",
            "                                 Dload  Upload   Total   Spent    Left  Speed\n",
            "100 1847M  100 1847M    0     0  24.3M      0  0:01:15  0:01:15 --:--:-- 24.8M\n",
            "Archive:  model.zip\n",
            "   creating: vosk-model-ru-0.42/\n",
            "   creating: vosk-model-ru-0.42/graph/\n",
            "  inflating: vosk-model-ru-0.42/graph/words.txt  \n",
            "   creating: vosk-model-ru-0.42/graph/phones/\n",
            " extracting: vosk-model-ru-0.42/graph/phones/silence.csl  \n",
            "  inflating: vosk-model-ru-0.42/graph/phones/align_lexicon.txt  \n",
            "  inflating: vosk-model-ru-0.42/graph/phones/word_boundary.txt  \n",
            " extracting: vosk-model-ru-0.42/graph/phones/optional_silence.csl  \n",
            " extracting: vosk-model-ru-0.42/graph/phones/optional_silence.txt  \n",
            "  inflating: vosk-model-ru-0.42/graph/phones/disambig.int  \n",
            " extracting: vosk-model-ru-0.42/graph/phones/disambig.txt  \n",
            "  inflating: vosk-model-ru-0.42/graph/phones/align_lexicon.int  \n",
            "  inflating: vosk-model-ru-0.42/graph/phones/word_boundary.int  \n",
            " extracting: vosk-model-ru-0.42/graph/phones/optional_silence.int  \n",
            "  inflating: vosk-model-ru-0.42/graph/phones.txt  \n",
            "  inflating: vosk-model-ru-0.42/graph/HCLG.fst  \n",
            " extracting: vosk-model-ru-0.42/graph/num_pdfs  \n",
            "  inflating: vosk-model-ru-0.42/graph/disambig_tid.int  \n",
            "  inflating: vosk-model-ru-0.42/decode.py  \n",
            "   creating: vosk-model-ru-0.42/am/\n",
            " extracting: vosk-model-ru-0.42/am/frame_subsampling_factor  \n",
            "  inflating: vosk-model-ru-0.42/am/tree  \n",
            "  inflating: vosk-model-ru-0.42/am/final.mdl  \n",
            "   creating: vosk-model-ru-0.42/extra/\n",
            "  inflating: vosk-model-ru-0.42/extra/sova_devices.ref  \n",
            "  inflating: vosk-model-ru-0.42/extra/silero_youtube.ref  \n",
            "  inflating: vosk-model-ru-0.42/extra/golos_crowd.ref  \n",
            "  inflating: vosk-model-ru-0.42/extra/README  \n",
            "  inflating: vosk-model-ru-0.42/extra/silero_books.ref  \n",
            "  inflating: vosk-model-ru-0.42/extra/silero_calls.ref  \n",
            "   creating: vosk-model-ru-0.42/rnnlm/\n",
            " extracting: vosk-model-ru-0.42/rnnlm/oov.txt  \n",
            "  inflating: vosk-model-ru-0.42/rnnlm/special_symbol_opts.conf  \n",
            "  inflating: vosk-model-ru-0.42/rnnlm/unigram_probs.txt  \n",
            "  inflating: vosk-model-ru-0.42/rnnlm/features.txt  \n",
            "  inflating: vosk-model-ru-0.42/rnnlm/final.raw  \n",
            "  inflating: vosk-model-ru-0.42/rnnlm/special_symbol_opts.txt  \n",
            "  inflating: vosk-model-ru-0.42/rnnlm/feat_embedding.final.mat  \n",
            "  inflating: vosk-model-ru-0.42/rnnlm/word_feats.txt  \n",
            "  inflating: vosk-model-ru-0.42/decoder-test.wav  \n",
            "  inflating: vosk-model-ru-0.42/README  \n",
            "   creating: vosk-model-ru-0.42/rescore/\n",
            "  inflating: vosk-model-ru-0.42/rescore/G.fst  \n",
            "  inflating: vosk-model-ru-0.42/rescore/G.carpa  \n",
            "   creating: vosk-model-ru-0.42/conf/\n",
            "  inflating: vosk-model-ru-0.42/conf/model.conf  \n",
            "  inflating: vosk-model-ru-0.42/conf/ivector_extractor.conf  \n",
            "  inflating: vosk-model-ru-0.42/conf/mfcc.conf  \n",
            "  inflating: vosk-model-ru-0.42/conf/online.conf  \n",
            "   creating: vosk-model-ru-0.42/ivector/\n",
            "  inflating: vosk-model-ru-0.42/ivector/final.dubm  \n",
            "  inflating: vosk-model-ru-0.42/ivector/global_cmvn.stats  \n",
            "  inflating: vosk-model-ru-0.42/ivector/final.ie  \n",
            "  inflating: vosk-model-ru-0.42/ivector/final.mat  \n",
            "  inflating: vosk-model-ru-0.42/ivector/splice.conf  \n",
            " extracting: vosk-model-ru-0.42/ivector/online_cmvn.conf  \n"
          ]
        }
      ],
      "source": [
        "!curl -o ./model.zip https://alphacephei.com/vosk/models/vosk-model-ru-0.42.zip\n",
        "!unzip model.zip\n",
        "!mv vosk-model-ru-0.42/ model\n",
        "!rm -rf model.zip"
      ]
    },
    {
      "cell_type": "markdown",
      "source": [
        "This model can be put to VOSK, but its use takes too much resources of the computer itself. Deals with punctuation marks"
      ],
      "metadata": {
        "id": "qiEOFoSx6Paq"
      }
    },
    {
      "cell_type": "code",
      "execution_count": 5,
      "metadata": {
        "id": "_RmaA7idmOaS",
        "colab": {
          "base_uri": "https://localhost:8080/"
        },
        "outputId": "57a9b875-2d0b-4577-e5f0-248e18176330"
      },
      "outputs": [
        {
          "output_type": "stream",
          "name": "stdout",
          "text": [
            "  % Total    % Received % Xferd  Average Speed   Time    Time     Time  Current\n",
            "                                 Dload  Upload   Total   Spent    Left  Speed\n",
            "  1 1622M    1 23.9M    0     0  10.1M      0  0:02:39  0:00:02  0:02:37 10.1M^C\n",
            "Archive:  recasepunc.zip\n",
            "  End-of-central-directory signature not found.  Either this file is not\n",
            "  a zipfile, or it constitutes one disk of a multi-part archive.  In the\n",
            "  latter case the central directory and zipfile comment will be found on\n",
            "  the last disk(s) of this archive.\n",
            "unzip:  cannot find zipfile directory in one of recasepunc.zip or\n",
            "        recasepunc.zip.zip, and cannot find recasepunc.zip.ZIP, period.\n",
            "mv: cannot stat 'vosk-recasepunc-ru-0.22/': No such file or directory\n"
          ]
        }
      ],
      "source": [
        "!curl -o recasepunc.zip https://alphacephei.com/vosk/models/vosk-recasepunc-ru-0.22.zip\n",
        "!unzip recasepunc.zip\n",
        "!mv vosk-recasepunc-ru-0.22/ recasepunc\n",
        "!rm -rf recasepunc.zip"
      ]
    },
    {
      "cell_type": "code",
      "execution_count": 7,
      "metadata": {
        "id": "7Ua2SIvqk8EQ"
      },
      "outputs": [],
      "source": [
        "#import libraries\n",
        "from vosk import Model, KaldiRecognizer, SetLogLevel\n",
        "from pydub import AudioSegment\n",
        "import subprocess\n",
        "import json\n",
        "import os\n",
        "from moviepy.editor import VideoFileClip\n",
        "from moviepy.video.io.html_tools import ffmpeg_parse_infos\n"
      ]
    },
    {
      "cell_type": "code",
      "source": [
        "#def converttomp3(mp4file, wavfile):\n",
        "    video=VideoFileClip(mp4file)\n",
        "    # получаем аудиодорожку\n",
        "    audio=video.audio\n",
        "    # сохраняем аудио файл\n",
        "    audio.write_audiofile(wavfile)\n",
        "    # уничтожаем объекты\n",
        "    # что бы не было ошибок\n",
        "    audio.close()\n",
        "    video.close()\n",
        "\n",
        "#converttomp3('video.mp4', 'file.wav')\n"
      ],
      "metadata": {
        "colab": {
          "base_uri": "https://localhost:8080/"
        },
        "id": "DNBgG6bg5m7W",
        "outputId": "adf732e8-82f1-4fb1-9471-f0464c8e1c2a"
      },
      "execution_count": 7,
      "outputs": [
        {
          "output_type": "stream",
          "name": "stdout",
          "text": [
            "MoviePy - Writing audio in file.wav\n"
          ]
        },
        {
          "output_type": "stream",
          "name": "stderr",
          "text": [
            "                                                                      "
          ]
        },
        {
          "output_type": "stream",
          "name": "stdout",
          "text": [
            "MoviePy - Done.\n"
          ]
        },
        {
          "output_type": "stream",
          "name": "stderr",
          "text": [
            "\r"
          ]
        }
      ]
    },
    {
      "cell_type": "code",
      "source": [
        "from moviepy.editor import VideoFileClip\n",
        "def convert_mp4_to_wav(input_file, output_file):\n",
        "    video = VideoFileClip(input_file)\n",
        "    audio = video.audio\n",
        "    audio.write_audiofile(output_file)\n",
        "\n",
        "input_file = 'video.mp4'\n",
        "output_file = 'file.wav'\n",
        "convert_mp4_to_wav(input_file, output_file)\n"
      ],
      "metadata": {
        "colab": {
          "base_uri": "https://localhost:8080/"
        },
        "id": "WP1rydn6rzmU",
        "outputId": "7277e1b4-70da-4310-bc6d-28eaffc49196"
      },
      "execution_count": 8,
      "outputs": [
        {
          "output_type": "stream",
          "name": "stdout",
          "text": [
            "MoviePy - Writing audio in file.wav\n"
          ]
        },
        {
          "output_type": "stream",
          "name": "stderr",
          "text": []
        },
        {
          "output_type": "stream",
          "name": "stdout",
          "text": [
            "MoviePy - Done.\n"
          ]
        }
      ]
    },
    {
      "cell_type": "code",
      "execution_count": 9,
      "metadata": {
        "id": "xUGrxfRtlCCf"
      },
      "outputs": [],
      "source": [
        "#SetLogLevel(0)\n",
        "import os\n",
        "# checking model\n",
        "if not os.path.exists(\"model\"):\n",
        "    print (\"Please download the model from https://alphacephei.com/vosk/models and unpack as 'model' in the current folder.\")\n",
        "    exit (1)\n",
        "\n",
        "# set Frame Rate\n",
        "FRAME_RATE = 16000\n",
        "CHANNELS=1\n",
        "\n",
        "model = Model(\"model\")\n",
        "rec = KaldiRecognizer(model, FRAME_RATE)\n",
        "rec.SetWords(True)\n",
        "\n",
        "# Используя библиотеку pydub делаем предобработку аудио\n",
        "mp3 = AudioSegment.from_mp3('file.wav')\n",
        "mp3 = mp3.set_channels(CHANNELS)\n",
        "mp3 = mp3.set_frame_rate(FRAME_RATE)\n"
      ]
    },
    {
      "cell_type": "code",
      "execution_count": null,
      "metadata": {
        "id": "JjBoYZJJXrgh"
      },
      "outputs": [],
      "source": [
        "# Преобразуем вывод в json\n",
        "rec.AcceptWaveform(mp3.raw_data)\n",
        "result = rec.Result()\n",
        "text = json.loads(result)[\"text\"]\n",
        "\n",
        "# Добавляем пунктуацию (Занимает очень много ресурсов, можно и без нее)\n",
        "#cased = subprocess.check_output('python3 recasepunc/recasepunc.py predict recasepunc/checkpoint', shell=True, text=True, input=text)\n"
      ]
    },
    {
      "cell_type": "code",
      "execution_count": null,
      "metadata": {
        "id": "yNnF1pb4XwUg"
      },
      "outputs": [],
      "source": [
        "# Записываем результат в файл \"data.txt\"\n",
        "with open('ff.txt', 'w') as f:\n",
        "    json.dump(text, f, ensure_ascii=False, indent=4)"
      ]
    }
  ],
  "metadata": {
    "colab": {
      "provenance": []
    },
    "kernelspec": {
      "display_name": "Python 3",
      "name": "python3"
    },
    "language_info": {
      "name": "python"
    }
  },
  "nbformat": 4,
  "nbformat_minor": 0
}